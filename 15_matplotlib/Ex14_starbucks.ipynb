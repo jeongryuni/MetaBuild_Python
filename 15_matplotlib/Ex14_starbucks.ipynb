{
 "cells": [
  {
   "cell_type": "code",
   "id": "6308d299-5993-4ae5-b710-4f68424fee68",
   "metadata": {
    "ExecuteTime": {
     "end_time": "2025-10-29T08:47:43.780704Z",
     "start_time": "2025-10-29T08:47:43.060143Z"
    }
   },
   "source": [
    "import pandas as pd\n",
    "import numpy as np\n",
    "import requests\n",
    "\n",
    "from bs4 import BeautifulSoup\n",
    "\n",
    "from tqdm.notebook import tqdm \n",
    "from selenium import webdriver\n",
    "from selenium.webdriver.common.by import By\n",
    "from selenium.webdriver.support.ui import WebDriverWait\n",
    "from selenium.webdriver.support import expected_conditions as EC\n",
    "from selenium.webdriver.chrome.service import Service\n",
    "from selenium.webdriver.chrome.options import Options"
   ],
   "outputs": [],
   "execution_count": 1
  },
  {
   "cell_type": "code",
   "id": "eef468f4-9a7b-41df-af23-816678b1f18f",
   "metadata": {
    "ExecuteTime": {
     "end_time": "2025-10-29T08:47:51.021740Z",
     "start_time": "2025-10-29T08:47:49.960535Z"
    }
   },
   "source": [
    "chrome_options = webdriver.ChromeOptions()\n",
    "chrome_path = \"C:\\Program Files\\Google\\Chrome\\Application\\chrome.exe\"  # 실제 경로\n",
    "chrome_options.binary_location = chrome_path\n",
    "\n",
    "driver_path = \"chromedriver.exe\"\n",
    "myservice = Service(driver_path)\n",
    "driver = webdriver.Chrome(service=myservice, options=chrome_options)\n",
    "\n",
    "print(type(driver))\n",
    "\n",
    "wait_time = 10\n",
    "driver.implicitly_wait(wait_time)"
   ],
   "outputs": [
    {
     "name": "stdout",
     "output_type": "stream",
     "text": [
      "<class 'selenium.webdriver.chrome.webdriver.WebDriver'>\n"
     ]
    }
   ],
   "execution_count": 2
  },
  {
   "cell_type": "code",
   "id": "d3138e3a-b2cf-4d38-9bef-330b70727ab4",
   "metadata": {
    "ExecuteTime": {
     "end_time": "2025-10-29T08:47:54.267662Z",
     "start_time": "2025-10-29T08:47:54.223182Z"
    }
   },
   "source": [
    "driver.maximize_window()"
   ],
   "outputs": [],
   "execution_count": 3
  },
  {
   "cell_type": "code",
   "id": "99fb0db7-6eb0-4a10-a7e9-6c5e164b76e0",
   "metadata": {
    "ExecuteTime": {
     "end_time": "2025-10-29T08:48:00.076958Z",
     "start_time": "2025-10-29T08:47:56.427561Z"
    }
   },
   "source": [
    "starbucks_url = 'https://www.starbucks.co.kr/store/store_map.do?disp=locale'\n",
    "driver.get(starbucks_url)"
   ],
   "outputs": [],
   "execution_count": 4
  },
  {
   "cell_type": "code",
   "id": "7b44a14e-1ad2-427f-945b-f26873b68749",
   "metadata": {
    "ExecuteTime": {
     "end_time": "2025-10-29T08:48:04.951177Z",
     "start_time": "2025-10-29T08:48:04.881641Z"
    }
   },
   "source": [
    "# 스타벅스 서울 링크 클릭\n",
    "starbucks_seoul_selector = '#container > div > form > fieldset > div > section > article.find_store_cont > article > article:nth-child(4) > div.loca_step1 > div.loca_step1_cont > ul > li:nth-child(1) > a'\n",
    "seoul_link = WebDriverWait(driver, 5).until(EC.presence_of_element_located((By.CSS_SELECTOR, starbucks_seoul_selector)))\n",
    "seoul_link.click()"
   ],
   "outputs": [],
   "execution_count": 5
  },
  {
   "cell_type": "code",
   "id": "1e122df4-2394-4194-a8bb-ac640ede15eb",
   "metadata": {
    "ExecuteTime": {
     "end_time": "2025-10-29T08:48:07.285686Z",
     "start_time": "2025-10-29T08:48:07.210059Z"
    }
   },
   "source": [
    "# 서울 > 전체 링크 클릭\n",
    "starbucks_seoul_all = '#mCSB_2_container > ul > li:nth-child(1) > a'\n",
    "seoul_all_link = WebDriverWait(driver, 5).until(EC.presence_of_element_located((By.CSS_SELECTOR, starbucks_seoul_all)))\n",
    "seoul_all_link.click()"
   ],
   "outputs": [],
   "execution_count": 6
  },
  {
   "cell_type": "code",
   "id": "3ff3596c-481a-4980-8688-c253e1e87349",
   "metadata": {
    "ExecuteTime": {
     "end_time": "2025-10-29T08:48:11.339708Z",
     "start_time": "2025-10-29T08:48:11.254187Z"
    }
   },
   "source": [
    "# 서울 > 전체 링크 > html 파일생성\n",
    "html = driver.page_source\n",
    "filename = \"starbucks.html\"\n",
    "htmlFile = open(filename, mode='w', encoding='utf-8')\n",
    "print(html, file=htmlFile)\n",
    "htmlFile.close()\n",
    "print(filename + \"파일 생성됨\")"
   ],
   "outputs": [
    {
     "name": "stdout",
     "output_type": "stream",
     "text": [
      "starbucks.html파일 생성됨\n"
     ]
    }
   ],
   "execution_count": 7
  },
  {
   "cell_type": "code",
   "id": "d2772bff-ecd8-41c1-b00a-94398fa4cf82",
   "metadata": {
    "ExecuteTime": {
     "end_time": "2025-10-29T08:48:14.754621Z",
     "start_time": "2025-10-29T08:48:14.564282Z"
    }
   },
   "source": [
    "soup = BeautifulSoup(html, 'html.parser')\n",
    "print(type(soup))"
   ],
   "outputs": [
    {
     "name": "stdout",
     "output_type": "stream",
     "text": [
      "<class 'bs4.BeautifulSoup'>\n"
     ]
    }
   ],
   "execution_count": 8
  },
  {
   "cell_type": "code",
   "id": "f764ce19-de14-4dd2-be97-26ea8bebefe6",
   "metadata": {
    "ExecuteTime": {
     "end_time": "2025-10-29T08:48:16.238489Z",
     "start_time": "2025-10-29T08:48:16.230892Z"
    }
   },
   "source": [
    "# 서울 전체 매장 li 찾기\n",
    "container = soup.find('div', id='mCSB_3_container')\n",
    "storeAll = container.find_all('li')\n",
    "print(f'서울 전체 매장 개수 : {len(storeAll)}')"
   ],
   "outputs": [
    {
     "name": "stdout",
     "output_type": "stream",
     "text": [
      "서울 전체 매장 개수 : 660\n"
     ]
    }
   ],
   "execution_count": 9
  },
  {
   "cell_type": "code",
   "id": "2e596d15-f99d-418b-abe9-0866a525f331",
   "metadata": {
    "ExecuteTime": {
     "end_time": "2025-10-29T08:48:17.744031Z",
     "start_time": "2025-10-29T08:48:17.683155Z"
    }
   },
   "source": [
    "# 서울 전체 li html로 만들기\n",
    "html_partial = '\\n\\n'.join(str(li) for li in storeAll)\n",
    "htmlFile = open('mCSB_3_container_li.html', mode='w', encoding='utf-8')\n",
    "print(html_partial, file=htmlFile)\n",
    "htmlFile.close()\n",
    "print('파일 생성!')"
   ],
   "outputs": [
    {
     "name": "stdout",
     "output_type": "stream",
     "text": [
      "파일 생성!\n"
     ]
    }
   ],
   "execution_count": 10
  },
  {
   "cell_type": "code",
   "id": "8ad3f32b-78ce-4fe8-a410-7fc828f98a7d",
   "metadata": {
    "scrolled": true,
    "ExecuteTime": {
     "end_time": "2025-10-29T08:48:19.006022Z",
     "start_time": "2025-10-29T08:48:18.992159Z"
    }
   },
   "source": [
    "# 매장이름 / 주소전체 +(구 포함) / 위도 경도\n",
    "\n",
    "starbuckus_list = []\n",
    "address = []\n",
    "\n",
    "for li in storeAll:\n",
    "    name = li.get('data-name')\n",
    "    lat = li.get('data-lat')\n",
    "    long = li.get('data-long')\n",
    "    address = li.find('p','result_details').getText().replace(\"1522-3232\", \"\")\n",
    "    starbuckus_list.append([name, lat, long, address])\n",
    "print(starbuckus_list[:1])"
   ],
   "outputs": [
    {
     "name": "stdout",
     "output_type": "stream",
     "text": [
      "[['역삼아레나빌딩', '37.501087', '127.043069', '서울특별시 강남구 언주로 425 (역삼동)']]\n"
     ]
    }
   ],
   "execution_count": 11
  },
  {
   "cell_type": "code",
   "id": "79237b5f-4571-4ed4-bdf3-a83d8903f05a",
   "metadata": {
    "ExecuteTime": {
     "end_time": "2025-10-29T08:48:20.237317Z",
     "start_time": "2025-10-29T08:48:20.232050Z"
    }
   },
   "source": [
    "htmlFile = open('starbuckus_list.html', mode='w', encoding='utf-8')\n",
    "print(html_partial, file=htmlFile)\n",
    "htmlFile.close()\n",
    "print('파일 생성!')"
   ],
   "outputs": [
    {
     "name": "stdout",
     "output_type": "stream",
     "text": [
      "파일 생성!\n"
     ]
    }
   ],
   "execution_count": 12
  }
 ],
 "metadata": {
  "kernelspec": {
   "display_name": "Python 3 (ipykernel)",
   "language": "python",
   "name": "python3"
  },
  "language_info": {
   "codemirror_mode": {
    "name": "ipython",
    "version": 3
   },
   "file_extension": ".py",
   "mimetype": "text/x-python",
   "name": "python",
   "nbconvert_exporter": "python",
   "pygments_lexer": "ipython3",
   "version": "3.11.9"
  }
 },
 "nbformat": 4,
 "nbformat_minor": 5
}
