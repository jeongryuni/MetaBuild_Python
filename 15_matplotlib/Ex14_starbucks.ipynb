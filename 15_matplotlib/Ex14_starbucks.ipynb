{
 "cells": [
  {
   "cell_type": "code",
   "execution_count": 81,
   "id": "6308d299-5993-4ae5-b710-4f68424fee68",
   "metadata": {
    "ExecuteTime": {
     "end_time": "2025-10-29T08:47:43.780704Z",
     "start_time": "2025-10-29T08:47:43.060143Z"
    }
   },
   "outputs": [],
   "source": [
    "import pandas as pd\n",
    "import numpy as np\n",
    "import requests\n",
    "\n",
    "from bs4 import BeautifulSoup\n",
    "\n",
    "from tqdm.notebook import tqdm \n",
    "from selenium import webdriver\n",
    "from selenium.webdriver.common.by import By\n",
    "from selenium.webdriver.support.ui import WebDriverWait\n",
    "from selenium.webdriver.support import expected_conditions as EC\n",
    "from selenium.webdriver.chrome.service import Service\n",
    "from selenium.webdriver.chrome.options import Options"
   ]
  },
  {
   "cell_type": "code",
   "execution_count": 83,
   "id": "eef468f4-9a7b-41df-af23-816678b1f18f",
   "metadata": {
    "ExecuteTime": {
     "end_time": "2025-10-29T08:47:51.021740Z",
     "start_time": "2025-10-29T08:47:49.960535Z"
    }
   },
   "outputs": [
    {
     "name": "stdout",
     "output_type": "stream",
     "text": [
      "<class 'selenium.webdriver.chrome.webdriver.WebDriver'>\n"
     ]
    }
   ],
   "source": [
    "chrome_options = webdriver.ChromeOptions()\n",
    "chrome_path = \"C:\\Program Files\\Google\\Chrome\\Application\\chrome.exe\"  # 실제 경로\n",
    "chrome_options.binary_location = chrome_path\n",
    "\n",
    "driver_path = \"chromedriver.exe\"\n",
    "myservice = Service(driver_path)\n",
    "driver = webdriver.Chrome(service=myservice, options=chrome_options)\n",
    "\n",
    "print(type(driver))\n",
    "\n",
    "wait_time = 10\n",
    "driver.implicitly_wait(wait_time)"
   ]
  },
  {
   "cell_type": "code",
   "execution_count": 74,
   "id": "d3138e3a-b2cf-4d38-9bef-330b70727ab4",
   "metadata": {
    "ExecuteTime": {
     "end_time": "2025-10-29T08:47:54.267662Z",
     "start_time": "2025-10-29T08:47:54.223182Z"
    }
   },
   "outputs": [],
   "source": [
    "driver.maximize_window()"
   ]
  },
  {
   "cell_type": "code",
   "execution_count": 84,
   "id": "99fb0db7-6eb0-4a10-a7e9-6c5e164b76e0",
   "metadata": {
    "ExecuteTime": {
     "end_time": "2025-10-29T08:48:00.076958Z",
     "start_time": "2025-10-29T08:47:56.427561Z"
    }
   },
   "outputs": [],
   "source": [
    "starbucks_url = 'https://www.starbucks.co.kr/store/store_map.do?disp=locale'\n",
    "driver.get(starbucks_url)"
   ]
  },
  {
   "cell_type": "code",
   "execution_count": 85,
   "id": "7b44a14e-1ad2-427f-945b-f26873b68749",
   "metadata": {
    "ExecuteTime": {
     "end_time": "2025-10-29T08:48:04.951177Z",
     "start_time": "2025-10-29T08:48:04.881641Z"
    }
   },
   "outputs": [],
   "source": [
    "# 스타벅스 서울 링크 클릭\n",
    "starbucks_seoul_selector = '#container > div > form > fieldset > div > section > article.find_store_cont > article > article:nth-child(4) > div.loca_step1 > div.loca_step1_cont > ul > li:nth-child(1) > a'\n",
    "seoul_link = WebDriverWait(driver, 5).until(EC.presence_of_element_located((By.CSS_SELECTOR, starbucks_seoul_selector)))\n",
    "seoul_link.click()"
   ]
  },
  {
   "cell_type": "code",
   "execution_count": 86,
   "id": "1e122df4-2394-4194-a8bb-ac640ede15eb",
   "metadata": {
    "ExecuteTime": {
     "end_time": "2025-10-29T08:48:07.285686Z",
     "start_time": "2025-10-29T08:48:07.210059Z"
    }
   },
   "outputs": [],
   "source": [
    "# 서울 > 전체 링크 클릭\n",
    "starbucks_seoul_all = '#mCSB_2_container > ul > li:nth-child(1) > a'\n",
    "seoul_all_link = WebDriverWait(driver, 5).until(EC.presence_of_element_located((By.CSS_SELECTOR, starbucks_seoul_all)))\n",
    "seoul_all_link.click()"
   ]
  },
  {
   "cell_type": "code",
   "execution_count": 92,
   "id": "3ff3596c-481a-4980-8688-c253e1e87349",
   "metadata": {
    "ExecuteTime": {
     "end_time": "2025-10-29T08:48:11.339708Z",
     "start_time": "2025-10-29T08:48:11.254187Z"
    }
   },
   "outputs": [
    {
     "name": "stdout",
     "output_type": "stream",
     "text": [
      "starbucks.html파일 생성됨\n"
     ]
    }
   ],
   "source": [
    "# 서울 > 전체 링크 > html 파일생성\n",
    "html = driver.page_source\n",
    "filename = \"file/starbucks.html\"\n",
    "htmlFile = open(filename, mode='w', encoding='utf-8')\n",
    "print(html, file=htmlFile)\n",
    "htmlFile.close()\n",
    "print(filename + \"파일 생성됨\")"
   ]
  },
  {
   "cell_type": "code",
   "execution_count": 93,
   "id": "d2772bff-ecd8-41c1-b00a-94398fa4cf82",
   "metadata": {
    "ExecuteTime": {
     "end_time": "2025-10-29T08:48:14.754621Z",
     "start_time": "2025-10-29T08:48:14.564282Z"
    }
   },
   "outputs": [
    {
     "name": "stdout",
     "output_type": "stream",
     "text": [
      "<class 'bs4.BeautifulSoup'>\n"
     ]
    }
   ],
   "source": [
    "soup = BeautifulSoup(html, 'html.parser')\n",
    "print(type(soup))"
   ]
  },
  {
   "cell_type": "code",
   "execution_count": 94,
   "id": "f764ce19-de14-4dd2-be97-26ea8bebefe6",
   "metadata": {
    "ExecuteTime": {
     "end_time": "2025-10-29T08:48:16.238489Z",
     "start_time": "2025-10-29T08:48:16.230892Z"
    }
   },
   "outputs": [
    {
     "name": "stdout",
     "output_type": "stream",
     "text": [
      "서울 전체 매장 개수 : 660\n"
     ]
    }
   ],
   "source": [
    "# 서울 전체 매장 li 찾기\n",
    "container = soup.find('div', id='mCSB_3_container')\n",
    "storeAll = container.find_all('li')\n",
    "print(f'서울 전체 매장 개수 : {len(storeAll)}')"
   ]
  },
  {
   "cell_type": "code",
   "execution_count": 95,
   "id": "2e596d15-f99d-418b-abe9-0866a525f331",
   "metadata": {
    "ExecuteTime": {
     "end_time": "2025-10-29T08:48:17.744031Z",
     "start_time": "2025-10-29T08:48:17.683155Z"
    }
   },
   "outputs": [
    {
     "name": "stdout",
     "output_type": "stream",
     "text": [
      "파일 생성!\n"
     ]
    }
   ],
   "source": [
    "# 서울 전체 li html로 만들기\n",
    "html_partial = '\\n\\n'.join(str(li) for li in storeAll)\n",
    "htmlFile = open('file/mCSB_3_container_li.html', mode='w', encoding='utf-8')\n",
    "print(html_partial, file=htmlFile)\n",
    "htmlFile.close()\n",
    "print('파일 생성!')"
   ]
  },
  {
   "cell_type": "code",
   "execution_count": 108,
   "id": "8ad3f32b-78ce-4fe8-a410-7fc828f98a7d",
   "metadata": {
    "ExecuteTime": {
     "end_time": "2025-10-29T08:48:19.006022Z",
     "start_time": "2025-10-29T08:48:18.992159Z"
    },
    "scrolled": true
   },
   "outputs": [
    {
     "name": "stdout",
     "output_type": "stream",
     "text": [
      "[['스타벅스', '역삼아레나빌딩', '서울특별시 강남구 언주로 425 (역삼동)', '강남구', '37.501087', '127.043069']]\n"
     ]
    }
   ],
   "source": [
    "# 매장이름 / 주소전체 +(구 포함) / 위도 경도\n",
    "\n",
    "starbuckusData = []\n",
    "address = []\n",
    "\n",
    "for li in storeAll:\n",
    "    name = li.get('data-name')\n",
    "    lat = li.get('data-lat')\n",
    "    long = li.get('data-long')\n",
    "    address = li.find('p','result_details').getText().replace(\"1522-3232\", \"\")\n",
    "    gu = address.split(' ')[1]\n",
    "    starbuckusData.append([\"스타벅스\",name,address, gu, lat, long, ])\n",
    "print(starbuckusData[:1])"
   ]
  },
  {
   "cell_type": "code",
   "execution_count": 109,
   "id": "79237b5f-4571-4ed4-bdf3-a83d8903f05a",
   "metadata": {
    "ExecuteTime": {
     "end_time": "2025-10-29T08:48:20.237317Z",
     "start_time": "2025-10-29T08:48:20.232050Z"
    }
   },
   "outputs": [
    {
     "name": "stdout",
     "output_type": "stream",
     "text": [
      "파일 생성!\n"
     ]
    }
   ],
   "source": [
    "htmlFile = open('file/starbuckusData.html', mode='w', encoding='utf-8')\n",
    "print(starbuckusData, file=htmlFile)\n",
    "htmlFile.close()\n",
    "print('파일 생성!')"
   ]
  },
  {
   "cell_type": "code",
   "execution_count": 110,
   "id": "12409d71-c5dc-4771-81fb-de8b40496b94",
   "metadata": {},
   "outputs": [
    {
     "data": {
      "text/html": [
       "<div>\n",
       "<style scoped>\n",
       "    .dataframe tbody tr th:only-of-type {\n",
       "        vertical-align: middle;\n",
       "    }\n",
       "\n",
       "    .dataframe tbody tr th {\n",
       "        vertical-align: top;\n",
       "    }\n",
       "\n",
       "    .dataframe thead th {\n",
       "        text-align: right;\n",
       "    }\n",
       "</style>\n",
       "<table border=\"1\" class=\"dataframe\">\n",
       "  <thead>\n",
       "    <tr style=\"text-align: right;\">\n",
       "      <th></th>\n",
       "      <th>브랜드</th>\n",
       "      <th>지점명</th>\n",
       "      <th>주소</th>\n",
       "      <th>군구</th>\n",
       "      <th>위도</th>\n",
       "      <th>경도</th>\n",
       "    </tr>\n",
       "  </thead>\n",
       "  <tbody>\n",
       "    <tr>\n",
       "      <th>0</th>\n",
       "      <td>스타벅스</td>\n",
       "      <td>역삼아레나빌딩</td>\n",
       "      <td>서울특별시 강남구 언주로 425 (역삼동)</td>\n",
       "      <td>강남구</td>\n",
       "      <td>37.501087</td>\n",
       "      <td>127.043069</td>\n",
       "    </tr>\n",
       "    <tr>\n",
       "      <th>1</th>\n",
       "      <td>스타벅스</td>\n",
       "      <td>논현역사거리</td>\n",
       "      <td>서울특별시 강남구 강남대로 538 (논현동)</td>\n",
       "      <td>강남구</td>\n",
       "      <td>37.510178</td>\n",
       "      <td>127.022223</td>\n",
       "    </tr>\n",
       "    <tr>\n",
       "      <th>2</th>\n",
       "      <td>스타벅스</td>\n",
       "      <td>신사역성일빌딩</td>\n",
       "      <td>서울특별시 강남구 강남대로 584 (논현동)</td>\n",
       "      <td>강남구</td>\n",
       "      <td>37.5139309</td>\n",
       "      <td>127.0206057</td>\n",
       "    </tr>\n",
       "    <tr>\n",
       "      <th>3</th>\n",
       "      <td>스타벅스</td>\n",
       "      <td>국기원사거리</td>\n",
       "      <td>서울특별시 강남구 테헤란로 125 (역삼동)</td>\n",
       "      <td>강남구</td>\n",
       "      <td>37.499517</td>\n",
       "      <td>127.031495</td>\n",
       "    </tr>\n",
       "    <tr>\n",
       "      <th>4</th>\n",
       "      <td>스타벅스</td>\n",
       "      <td>대치재경빌딩</td>\n",
       "      <td>서울특별시 강남구 남부순환로 2947 (대치동)</td>\n",
       "      <td>강남구</td>\n",
       "      <td>37.494668</td>\n",
       "      <td>127.062583</td>\n",
       "    </tr>\n",
       "  </tbody>\n",
       "</table>\n",
       "</div>"
      ],
      "text/plain": [
       "    브랜드      지점명                          주소   군구          위도           경도\n",
       "0  스타벅스  역삼아레나빌딩     서울특별시 강남구 언주로 425 (역삼동)  강남구   37.501087   127.043069\n",
       "1  스타벅스   논현역사거리    서울특별시 강남구 강남대로 538 (논현동)  강남구   37.510178   127.022223\n",
       "2  스타벅스  신사역성일빌딩    서울특별시 강남구 강남대로 584 (논현동)  강남구  37.5139309  127.0206057\n",
       "3  스타벅스   국기원사거리    서울특별시 강남구 테헤란로 125 (역삼동)  강남구   37.499517   127.031495\n",
       "4  스타벅스   대치재경빌딩  서울특별시 강남구 남부순환로 2947 (대치동)  강남구   37.494668   127.062583"
      ]
     },
     "execution_count": 110,
     "metadata": {},
     "output_type": "execute_result"
    }
   ],
   "source": [
    "sbDataFrame = pd.DataFrame(starbuckusData, columns=['브랜드','지점명', '주소', '군구', '위도', '경도'])\n",
    "sbDataFrame.head()"
   ]
  },
  {
   "cell_type": "code",
   "execution_count": 111,
   "id": "132da280-acd1-4444-8533-6c9ddb82456e",
   "metadata": {},
   "outputs": [
    {
     "name": "stdout",
     "output_type": "stream",
     "text": [
      "starbucksFile 파일 생성\n"
     ]
    }
   ],
   "source": [
    "fileName = 'file/starbucksFile.csv'\n",
    "sbDataFrame.to_csv(fileName, index=False)\n",
    "print('starbucksFile 파일 생성')"
   ]
  },
  {
   "cell_type": "code",
   "execution_count": null,
   "id": "b3c5ac73-bdc4-44ff-bc16-a41f2d1c91d0",
   "metadata": {},
   "outputs": [],
   "source": []
  }
 ],
 "metadata": {
  "kernelspec": {
   "display_name": "Python 3 (ipykernel)",
   "language": "python",
   "name": "python3"
  },
  "language_info": {
   "codemirror_mode": {
    "name": "ipython",
    "version": 3
   },
   "file_extension": ".py",
   "mimetype": "text/x-python",
   "name": "python",
   "nbconvert_exporter": "python",
   "pygments_lexer": "ipython3",
   "version": "3.11.9"
  }
 },
 "nbformat": 4,
 "nbformat_minor": 5
}
