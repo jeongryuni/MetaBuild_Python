{
 "cells": [
  {
   "cell_type": "code",
   "execution_count": 1,
   "id": "de7f6b3a-4bf8-4c40-9103-8a12e51dd05c",
   "metadata": {},
   "outputs": [],
   "source": [
    "import pandas as pd\n",
    "import numpy as np\n",
    "import requests\n",
    "import time\n",
    "\n",
    "from bs4 import BeautifulSoup\n",
    "\n",
    "from tqdm.notebook import tqdm \n",
    "from selenium import webdriver\n",
    "from selenium.webdriver.common.by import By\n",
    "from selenium.webdriver.support.ui import WebDriverWait\n",
    "from selenium.webdriver.support import expected_conditions as EC\n",
    "from selenium.webdriver.chrome.service import Service\n",
    "from selenium.webdriver.chrome.options import Options"
   ]
  },
  {
   "cell_type": "code",
   "execution_count": 2,
   "id": "5a8b09ab-c62a-4e23-b13e-21a9209e9235",
   "metadata": {},
   "outputs": [
    {
     "name": "stdout",
     "output_type": "stream",
     "text": [
      "<class 'selenium.webdriver.chrome.webdriver.WebDriver'>\n"
     ]
    }
   ],
   "source": [
    "chrome_options = webdriver.ChromeOptions()\n",
    "chrome_path = \"C:\\Program Files\\Google\\Chrome\\Application\\chrome.exe\"  # 실제 경로\n",
    "chrome_options.binary_location = chrome_path\n",
    "\n",
    "driver_path = \"chromedriver.exe\"\n",
    "myservice = Service(driver_path)\n",
    "driver = webdriver.Chrome(service=myservice, options=chrome_options)\n",
    "\n",
    "print(type(driver))\n",
    "\n",
    "wait_time = 10\n",
    "driver.implicitly_wait(wait_time)"
   ]
  },
  {
   "cell_type": "code",
   "execution_count": 3,
   "id": "cb3f7a43-718f-4392-896a-e4d64dde6296",
   "metadata": {},
   "outputs": [],
   "source": [
    "driver.maximize_window()"
   ]
  },
  {
   "cell_type": "code",
   "execution_count": 4,
   "id": "e0fdaaf8-a32f-479d-b6ee-af9fa3e6f526",
   "metadata": {
    "scrolled": true
   },
   "outputs": [
    {
     "name": "stdout",
     "output_type": "stream",
     "text": [
      "mon 요일 117개 수집 완료\n",
      "\n",
      "tue 요일 117개 수집 완료\n",
      "\n",
      "wed 요일 111개 수집 완료\n",
      "\n",
      "thu 요일 132개 수집 완료\n",
      "\n",
      "fri 요일 122개 수집 완료\n",
      "\n",
      "sat 요일 113개 수집 완료\n",
      "\n",
      "sun 요일 127개 수집 완료\n",
      "\n"
     ]
    }
   ],
   "source": [
    "# 제목 / 작가 / 평점\n",
    "weekdays = ['mon', 'tue', 'wed', 'thu', 'fri', 'sat', 'sun']\n",
    "base_url = \"https://comic.naver.com/webtoon?tab=\"\n",
    "weekly_webtoons = {}\n",
    "\n",
    "for weekday in weekdays:\n",
    "    page_url = f\"{base_url}{weekday}\"\n",
    "    driver.get(page_url)\n",
    "    time.sleep(15)\n",
    "    \n",
    "    soup = BeautifulSoup(driver.page_source, 'html.parser')\n",
    "    \n",
    "    title_tags = soup.find_all(\"span\", class_=\"ContentTitle__title--e3qXt\")\n",
    "    author_tags = soup.find_all(\"a\", class_=\"ContentAuthor__author--CTAAP\")\n",
    "    star_tags = soup.find_all(\"span\", class_=\"Rating__star_area--dFzsb\") \n",
    "    img_tags = soup.find_all(\"img\", class_=\"Poster__image--d9XTI\")\n",
    "    link_tags = soup.select(\"a.Poster__link--sopnC\")\n",
    "    \n",
    "    webtoon_data = []\n",
    "    for idx in range(3, len(title_tags)):\n",
    "        title = title_tags[idx].get_text(strip=True)\n",
    "        author = author_tags[idx].get_text(strip=True) if idx < len(author_tags) else \"\"\n",
    "        star = star_tags[idx].get_text(strip=True)[2:] if idx < len(star_tags) else \"\"\n",
    "\n",
    "        # 이미지\n",
    "        img = img_tags[idx]['src'] if idx < len(img_tags) else \"\" \n",
    "        # 링크\n",
    "        link =  \"https://comic.naver.com\"+ link_tags[idx]['href'] if idx < len(link_tags) else \"\"  \n",
    "        \n",
    "        webtoon_data.append([title, author, star, img, link])\n",
    "        \n",
    "    weekly_webtoons[weekday] = webtoon_data\n",
    "    print(f\"{weekday} 요일 {len(webtoon_data)}개 수집 완료\\n\")\n",
    "\n",
    "# driver.quit()"
   ]
  },
  {
   "cell_type": "code",
   "execution_count": 7,
   "id": "f8d49edf-003d-4c81-a8e8-91b682d5cb28",
   "metadata": {
    "scrolled": true
   },
   "outputs": [
    {
     "name": "stdout",
     "output_type": "stream",
     "text": [
      "CSV 저장 완료\n",
      "  요일           제목             작가    평점  \\\n",
      "0  월      만남어플 중독            루즌아  9.84   \n",
      "1  월          참교육      채용택 / 한가람  9.89   \n",
      "2  월         환생천마  JP / 부겸 / 장영훈  9.95   \n",
      "3  월       왕과의 야행             보리  9.98   \n",
      "4  월  마음의소리(였던 것)             조석  9.95   \n",
      "\n",
      "                                              이미지URL  \\\n",
      "0  https://image-comic.pstatic.net/webtoon/818528...   \n",
      "1  https://image-comic.pstatic.net/webtoon/818528...   \n",
      "2  https://image-comic.pstatic.net/webtoon/817365...   \n",
      "3  https://image-comic.pstatic.net/webtoon/817365...   \n",
      "4  https://image-comic.pstatic.net/webtoon/817365...   \n",
      "\n",
      "                                                웹툰링크  \n",
      "0  https://comic.naver.com/webtoon/list?titleId=8...  \n",
      "1  https://comic.naver.com/webtoon/list?titleId=7...  \n",
      "2  https://comic.naver.com/webtoon/list?titleId=8...  \n",
      "3  https://comic.naver.com/webtoon/list?titleId=8...  \n",
      "4  https://comic.naver.com/webtoon/list?titleId=8...  \n"
     ]
    }
   ],
   "source": [
    "# 영어 → 한글 매핑\n",
    "day = {'mon': '월', 'tue': '화', 'wed': '수', 'thu': '목', 'fri': '금', 'sat': '토', 'sun': '일'}\n",
    "\n",
    "df_webtoon = pd.DataFrame([\n",
    "    (day[eng_day], title, author, star, img, link)\n",
    "    for eng_day, webtoons in weekly_webtoons.items()\n",
    "    for title, author, star, img, link in webtoons  # link 포함으로 수정\n",
    "], columns=['요일', '제목', '작가', '평점', '이미지URL', '웹툰링크'])\n",
    "\n",
    "df_webtoon.to_csv(\"weekly_webtoons.csv\", index=False, encoding='utf-8-sig')\n",
    "print(\"CSV 저장 완료\")\n",
    "\n",
    "df_loaded = pd.read_csv(\"file/weekly_webtoons.csv\")\n",
    "print(df_loaded.head(5))"
   ]
  },
  {
   "cell_type": "code",
   "execution_count": 8,
   "id": "33387048-b8f9-439b-9fb9-799978e973ce",
   "metadata": {},
   "outputs": [
    {
     "name": "stdout",
     "output_type": "stream",
     "text": [
      "요일: mon\n",
      "제목: 만남어플 중독\n",
      "작가: 루즌아\n",
      "평점: 9.84\n",
      "이미지 URL: https://image-comic.pstatic.net/webtoon/818528/thumbnail/titledescimage/objectImage_52163270-ea97-47d6-bf87-35db4dc7965f.png\n",
      "웹툰 링크: https://comic.naver.com/webtoon/list?titleId=839004&tab=mon\n"
     ]
    }
   ],
   "source": [
    "# 첫 번째 요일 (예: 'mon')의 첫 번째 웹툰만 출력\n",
    "first_day = list(weekly_webtoons.keys())[0]   # 예: 'mon'\n",
    "first_webtoon = weekly_webtoons[first_day][0] # 첫 번째 웹툰 데이터\n",
    "\n",
    "print(f\"요일: {first_day}\")\n",
    "print(f\"제목: {first_webtoon[0]}\")\n",
    "print(f\"작가: {first_webtoon[1]}\")\n",
    "print(f\"평점: {first_webtoon[2]}\")\n",
    "print(f\"이미지 URL: {first_webtoon[3]}\")\n",
    "print(f\"웹툰 링크: {first_webtoon[4]}\")"
   ]
  }
 ],
 "metadata": {
  "kernelspec": {
   "display_name": "Python 3 (ipykernel)",
   "language": "python",
   "name": "python3"
  },
  "language_info": {
   "codemirror_mode": {
    "name": "ipython",
    "version": 3
   },
   "file_extension": ".py",
   "mimetype": "text/x-python",
   "name": "python",
   "nbconvert_exporter": "python",
   "pygments_lexer": "ipython3",
   "version": "3.11.9"
  }
 },
 "nbformat": 4,
 "nbformat_minor": 5
}
